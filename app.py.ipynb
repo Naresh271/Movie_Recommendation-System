{
 "cells": [
  {
   "cell_type": "code",
   "execution_count": 1,
   "id": "5b958966",
   "metadata": {},
   "outputs": [],
   "source": [
    "from flask import Flask, render_template, request\n",
    "import numpy as np\n",
    "import pandas as pd\n",
    "from sklearn.feature_extraction.text import TfidfVectorizer\n",
    "from sklearn.metrics.pairwise import cosine_similarity\n",
    "import difflib"
   ]
  },
  {
   "cell_type": "code",
   "execution_count": null,
   "id": "1de60987",
   "metadata": {},
   "outputs": [
    {
     "name": "stdout",
     "output_type": "stream",
     "text": [
      " * Serving Flask app '__main__'\n",
      " * Debug mode: on\n"
     ]
    },
    {
     "name": "stderr",
     "output_type": "stream",
     "text": [
      "WARNING: This is a development server. Do not use it in a production deployment. Use a production WSGI server instead.\n",
      " * Running on http://127.0.0.1:5000\n",
      "Press CTRL+C to quit\n",
      "127.0.0.1 - - [09/Feb/2024 11:30:03] \"GET / HTTP/1.1\" 200 -\n",
      "127.0.0.1 - - [09/Feb/2024 11:30:03] \"GET /static/background.jpg HTTP/1.1\" 304 -\n",
      "127.0.0.1 - - [09/Feb/2024 11:30:06] \"POST /recommend HTTP/1.1\" 200 -\n",
      "127.0.0.1 - - [09/Feb/2024 11:30:06] \"GET /static/ruc.jpg HTTP/1.1\" 304 -\n",
      "127.0.0.1 - - [09/Feb/2024 11:31:32] \"POST /recommend HTTP/1.1\" 500 -\n",
      "Traceback (most recent call last):\n",
      "  File \"C:\\Users\\nares\\AppData\\Roaming\\Python\\Python310\\site-packages\\flask\\app.py\", line 2213, in __call__\n",
      "    return self.wsgi_app(environ, start_response)\n",
      "  File \"C:\\Users\\nares\\AppData\\Roaming\\Python\\Python310\\site-packages\\flask\\app.py\", line 2193, in wsgi_app\n",
      "    response = self.handle_exception(e)\n",
      "  File \"C:\\Users\\nares\\AppData\\Roaming\\Python\\Python310\\site-packages\\flask\\app.py\", line 2190, in wsgi_app\n",
      "    response = self.full_dispatch_request()\n",
      "  File \"C:\\Users\\nares\\AppData\\Roaming\\Python\\Python310\\site-packages\\flask\\app.py\", line 1486, in full_dispatch_request\n",
      "    rv = self.handle_user_exception(e)\n",
      "  File \"C:\\Users\\nares\\AppData\\Roaming\\Python\\Python310\\site-packages\\flask\\app.py\", line 1484, in full_dispatch_request\n",
      "    rv = self.dispatch_request()\n",
      "  File \"C:\\Users\\nares\\AppData\\Roaming\\Python\\Python310\\site-packages\\flask\\app.py\", line 1469, in dispatch_request\n",
      "    return self.ensure_sync(self.view_functions[rule.endpoint])(**view_args)\n",
      "  File \"C:\\Users\\nares\\AppData\\Local\\Temp\\ipykernel_21832\\2893437777.py\", line 27, in recommend\n",
      "    close_match = find_close_match[0]\n",
      "IndexError: list index out of range\n",
      "127.0.0.1 - - [09/Feb/2024 11:31:32] \"GET /recommend?__debugger__=yes&cmd=resource&f=style.css HTTP/1.1\" 200 -\n",
      "127.0.0.1 - - [09/Feb/2024 11:31:32] \"GET /recommend?__debugger__=yes&cmd=resource&f=debugger.js HTTP/1.1\" 200 -\n",
      "127.0.0.1 - - [09/Feb/2024 11:31:32] \"GET /recommend?__debugger__=yes&cmd=resource&f=console.png HTTP/1.1\" 200 -\n",
      "127.0.0.1 - - [09/Feb/2024 11:31:32] \"GET /recommend?__debugger__=yes&cmd=resource&f=console.png HTTP/1.1\" 304 -\n"
     ]
    }
   ],
   "source": [
    "app = Flask(__name__)\n",
    "\n",
    "@app.route('/')\n",
    "def home():\n",
    "    return render_template(\"index.html\")\n",
    "\n",
    "@app.route('/recommend', methods=['POST'])\n",
    "def recommend():\n",
    "    movie_name = request.form['movie_name']\n",
    "\n",
    "    # Read movie data\n",
    "    movies_data = pd.read_csv(\"D:\\\\Datasets\\\\movies.csv\")\n",
    "    movies_data[\"genres\"] = movies_data[\"genres\"].fillna(\" \")\n",
    "\n",
    "    # Convert text data to feature vectors\n",
    "    vectorizer = TfidfVectorizer()\n",
    "    feature_vectors = vectorizer.fit_transform(movies_data[\"genres\"])\n",
    "\n",
    "    # Get similarity score using cosine similarity\n",
    "    similarity = cosine_similarity(feature_vectors)\n",
    "\n",
    "    # Create a list with all movie names given in the dataset\n",
    "    list_of_all_titles = movies_data['title'].tolist()\n",
    "\n",
    "    # Find the closest match for the movie name given by the user\n",
    "    find_close_match = difflib.get_close_matches(movie_name, list_of_all_titles)\n",
    "    close_match = find_close_match[0]\n",
    "\n",
    "    # Find the index of the movie with title\n",
    "    index_of_the_movie = movies_data[movies_data.title == close_match]['index'].values[0]\n",
    "\n",
    "    # Getting a list of similar movies\n",
    "    similarity_score = list(enumerate(similarity[index_of_the_movie]))\n",
    "\n",
    "    # Sorting the movies based on their similarity score\n",
    "    sorted_similar_movies = sorted(similarity_score, key=lambda x: x[1], reverse=True)\n",
    "\n",
    "    # Print the name of similar movies based on the index\n",
    "    recommended_movies = []\n",
    "    for movie in sorted_similar_movies[:10]:\n",
    "        index = movie[0]\n",
    "        title_from_index = movies_data[movies_data.index == index]['title'].values[0]\n",
    "        recommended_movies.append(title_from_index)\n",
    "\n",
    "    return render_template(\"recommendation.html\", movie=movie_name, recommendations=recommended_movies)\n",
    "\n",
    "\n",
    "if __name__ == '__main__':\n",
    "    app.run(debug=True, use_reloader=False)\n",
    "\n"
   ]
  },
  {
   "cell_type": "code",
   "execution_count": null,
   "id": "d0efd935",
   "metadata": {},
   "outputs": [],
   "source": []
  }
 ],
 "metadata": {
  "kernelspec": {
   "display_name": "Python 3 (ipykernel)",
   "language": "python",
   "name": "python3"
  },
  "language_info": {
   "codemirror_mode": {
    "name": "ipython",
    "version": 3
   },
   "file_extension": ".py",
   "mimetype": "text/x-python",
   "name": "python",
   "nbconvert_exporter": "python",
   "pygments_lexer": "ipython3",
   "version": "3.10.9"
  }
 },
 "nbformat": 4,
 "nbformat_minor": 5
}
